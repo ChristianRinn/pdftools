{
 "metadata": {
  "name": "",
  "signature": "sha256:df9433e1dc0f920060db1ad61db27724a96ad0342e5869acce161153dbfb42da"
 },
 "nbformat": 3,
 "nbformat_minor": 0,
 "worksheets": [
  {
   "cells": [
    {
     "cell_type": "code",
     "collapsed": false,
     "input": [
      "import os\n",
      "from PyPDF2 import PdfFileReader, PdfFileWriter"
     ],
     "language": "python",
     "metadata": {},
     "outputs": [],
     "prompt_number": 3
    },
    {
     "cell_type": "code",
     "collapsed": false,
     "input": [
      "def split_pdf(input, output):\n",
      "    if output is None:\n",
      "        base = os.path.splitext(input)[0]\n",
      "    with open(input, \"rb\") as inputfile:\n",
      "        reader = PdfFileReader(inputfile)    \n",
      "        for i, page in enumerate(reader.pages):\n",
      "            with open(output + \"_%i.pdf\" % i, \"wb\") as outputfile:\n",
      "                writer = PdfFileWriter()\n",
      "                writer.addPage(page)\n",
      "                writer.write(outputfile)\n",
      "    "
     ],
     "language": "python",
     "metadata": {},
     "outputs": [],
     "prompt_number": 35
    },
    {
     "cell_type": "code",
     "collapsed": false,
     "input": [
      "import argparse"
     ],
     "language": "python",
     "metadata": {},
     "outputs": [],
     "prompt_number": 1
    },
    {
     "cell_type": "code",
     "collapsed": false,
     "input": [
      "def process_arguments(args):\n",
      "    parser = argparse.ArgumentParser(description=\"Split a PDF file in multiple documents.\")\n",
      "    #input\n",
      "    parser.add_argument('input',\n",
      "                        type=str,\n",
      "                        default=None,\n",
      "                        help='input file that shall be splitted'\n",
      "                        )\n",
      "    #output\n",
      "    parser.add_argument('-o',\n",
      "                        '--output',\n",
      "                        type=str,\n",
      "                        default=None,\n",
      "                        help='filename of the output files'\n",
      "                        )\n",
      "    return parser.parse_args(args)"
     ],
     "language": "python",
     "metadata": {},
     "outputs": [],
     "prompt_number": 30
    },
    {
     "cell_type": "code",
     "collapsed": false,
     "input": [
      "args = process_arguments(['samples/sample1.pdf', '-o test'])\n",
      "#args = process_arguments(sys.argv[1])\n",
      "split_pdf(args.input, args.output)"
     ],
     "language": "python",
     "metadata": {},
     "outputs": [],
     "prompt_number": 37
    },
    {
     "cell_type": "code",
     "collapsed": false,
     "input": [
      "os.path.isfile(\"test\")"
     ],
     "language": "python",
     "metadata": {},
     "outputs": [
      {
       "metadata": {},
       "output_type": "pyout",
       "prompt_number": 39,
       "text": [
        "False"
       ]
      }
     ],
     "prompt_number": 39
    },
    {
     "cell_type": "code",
     "collapsed": false,
     "input": [],
     "language": "python",
     "metadata": {},
     "outputs": []
    }
   ],
   "metadata": {}
  }
 ]
}